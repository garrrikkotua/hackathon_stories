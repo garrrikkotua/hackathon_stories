{
 "cells": [
  {
   "cell_type": "code",
   "execution_count": 1,
   "metadata": {},
   "outputs": [],
   "source": [
    "import pandas as pd\n",
    "import json"
   ]
  },
  {
   "cell_type": "code",
   "execution_count": 2,
   "metadata": {},
   "outputs": [
    {
     "data": {
      "text/html": [
       "<div>\n",
       "<style scoped>\n",
       "    .dataframe tbody tr th:only-of-type {\n",
       "        vertical-align: middle;\n",
       "    }\n",
       "\n",
       "    .dataframe tbody tr th {\n",
       "        vertical-align: top;\n",
       "    }\n",
       "\n",
       "    .dataframe thead th {\n",
       "        text-align: right;\n",
       "    }\n",
       "</style>\n",
       "<table border=\"1\" class=\"dataframe\">\n",
       "  <thead>\n",
       "    <tr style=\"text-align: right;\">\n",
       "      <th></th>\n",
       "      <th>story_id</th>\n",
       "      <th>story_json</th>\n",
       "    </tr>\n",
       "  </thead>\n",
       "  <tbody>\n",
       "    <tr>\n",
       "      <th>0</th>\n",
       "      <td>127</td>\n",
       "      <td>{\"guid\":\"770a5bae-0e3f-4a6b-b924-bd87bd51a038\"...</td>\n",
       "    </tr>\n",
       "    <tr>\n",
       "      <th>1</th>\n",
       "      <td>254</td>\n",
       "      <td>{\"guid\":\"64f4c9ef-647b-4e04-b4d4-02297e939388\"...</td>\n",
       "    </tr>\n",
       "    <tr>\n",
       "      <th>2</th>\n",
       "      <td>865</td>\n",
       "      <td>{\"guid\":\"3482206b-d223-4aec-92ba-0150055cd68a\"...</td>\n",
       "    </tr>\n",
       "    <tr>\n",
       "      <th>3</th>\n",
       "      <td>1491</td>\n",
       "      <td>{\"guid\":\"5f4a9215-01de-4777-b70f-a18899db8f1c\"...</td>\n",
       "    </tr>\n",
       "    <tr>\n",
       "      <th>4</th>\n",
       "      <td>598</td>\n",
       "      <td>{\"guid\":\"ed8754bd-67be-4fa1-9289-5508d96f1fa4\"...</td>\n",
       "    </tr>\n",
       "  </tbody>\n",
       "</table>\n",
       "</div>"
      ],
      "text/plain": [
       "   story_id                                         story_json\n",
       "0       127  {\"guid\":\"770a5bae-0e3f-4a6b-b924-bd87bd51a038\"...\n",
       "1       254  {\"guid\":\"64f4c9ef-647b-4e04-b4d4-02297e939388\"...\n",
       "2       865  {\"guid\":\"3482206b-d223-4aec-92ba-0150055cd68a\"...\n",
       "3      1491  {\"guid\":\"5f4a9215-01de-4777-b70f-a18899db8f1c\"...\n",
       "4       598  {\"guid\":\"ed8754bd-67be-4fa1-9289-5508d96f1fa4\"..."
      ]
     },
     "execution_count": 2,
     "metadata": {},
     "output_type": "execute_result"
    }
   ],
   "source": [
    "stories = pd.read_csv('stories_description.csv', header=0, sep=',')\n",
    "stories.head()"
   ]
  },
  {
   "cell_type": "code",
   "execution_count": 3,
   "metadata": {},
   "outputs": [],
   "source": [
    "stories['info'] = stories.story_json.apply(lambda x: json.loads(x.replace(\"\\\\\\\\\\\"\", r\"\\\\\\\\\\\"\")))\n",
    "stories = stories.drop('story_json', axis=1)"
   ]
  },
  {
   "cell_type": "code",
   "execution_count": 4,
   "metadata": {},
   "outputs": [],
   "source": [
    "def story_proc(d, ind, types):\n",
    "    types.add(d['type'])\n",
    "    if d['type'] == 'label':\n",
    "        if 'text' not in d['properties']:\n",
    "           print(d['properties'].keys())\n",
    "    if 'content' not in d:\n",
    "        return \n",
    "    for c in d['content']:\n",
    "        story_proc(c, ind + 2, types)"
   ]
  },
  {
   "cell_type": "code",
   "execution_count": 278,
   "metadata": {
    "collapsed": true
   },
   "outputs": [
    {
     "name": "stdout",
     "output_type": "stream",
     "text": [
      "dict_keys(['font_size', 'font_type', 'font_color', 'alignment', 'corner_radius', 'background', 'size', 'padding', 'margin', 'border'])\n",
      "dict_keys(['font_size', 'font_type', 'font_color', 'alignment', 'corner_radius', 'background', 'size', 'padding', 'margin', 'border'])\n",
      "dict_keys(['font_size', 'font_type', 'font_color', 'alignment', 'template_identifier', 'corner_radius', 'background', 'size', 'padding', 'margin', 'border'])\n",
      "dict_keys(['font_size', 'font_type', 'font_color', 'alignment', 'background', 'size'])\n",
      "dict_keys(['font_size', 'font_type', 'font_color', 'alignment', 'background', 'size'])\n",
      "dict_keys(['font_size', 'font_type', 'font_color', 'alignment', 'background', 'size'])\n",
      "dict_keys(['font_size', 'font_type', 'font_color', 'alignment', 'background'])\n",
      "dict_keys(['font_size', 'font_type', 'font_color', 'alignment', 'background', 'size', 'margin'])\n",
      "dict_keys(['font_size', 'font_type', 'font_color', 'alignment', 'template_identifier', 'corner_radius', 'background', 'size', 'padding', 'margin', 'border'])\n",
      "dict_keys(['font_size', 'font_type', 'font_color', 'alignment', 'template_identifier', 'corner_radius', 'background', 'size', 'padding', 'margin', 'border'])\n",
      "dict_keys(['font_size', 'font_type', 'font_color', 'alignment', 'template_identifier', 'corner_radius', 'background', 'size', 'padding', 'margin', 'border'])\n",
      "dict_keys(['font_size', 'font_type', 'font_color', 'alignment', 'template_identifier', 'corner_radius', 'background', 'size', 'padding', 'margin', 'border'])\n",
      "dict_keys(['font_size', 'font_type', 'font_color', 'alignment', 'template_identifier', 'corner_radius', 'background', 'size', 'padding', 'margin', 'border'])\n",
      "dict_keys(['font_size', 'font_type', 'font_color', 'alignment', 'template_identifier', 'corner_radius', 'background', 'size', 'padding', 'margin', 'border'])\n",
      "dict_keys(['font_size', 'font_type', 'font_color', 'alignment', 'template_identifier', 'corner_radius', 'background', 'size', 'padding', 'margin', 'border'])\n",
      "dict_keys(['font_size', 'font_type', 'font_color', 'alignment', 'background', 'margin', 'border'])\n",
      "dict_keys(['font_size', 'font_type', 'font_color', 'alignment', 'template_identifier', 'corner_radius', 'background', 'size', 'padding', 'margin', 'border'])\n",
      "dict_keys(['font_size', 'font_type', 'font_color', 'alignment', 'template_identifier', 'corner_radius', 'background', 'size', 'padding', 'margin', 'border'])\n",
      "dict_keys(['font_size', 'font_type', 'font_color', 'alignment', 'template_identifier', 'corner_radius', 'background', 'size', 'padding', 'margin', 'border'])\n",
      "dict_keys(['font_size', 'font_type', 'font_color', 'alignment', 'template_identifier', 'corner_radius', 'background', 'size', 'padding', 'margin', 'border'])\n",
      "dict_keys(['font_size', 'font_type', 'font_color', 'alignment', 'template_identifier', 'corner_radius', 'background', 'size', 'padding', 'margin', 'border'])\n",
      "{'selection-layout', 'root', 'story-page', 'rating', 'layout-linear', 'label', 'image'}\n"
     ]
    }
   ],
   "source": [
    "s = set()\n",
    "for i in range(stories.shape[0]):\n",
    "data[213]    story_proc(stories.iloc[i, 1], 0, s)\n",
    "print(s)"
   ]
  },
  {
   "cell_type": "markdown",
   "metadata": {},
   "source": [
    "{'selection-layout', 'root', 'story-page', 'rating', 'layout-linear', 'label', 'image'}"
   ]
  },
  {
   "cell_type": "code",
   "execution_count": 5,
   "metadata": {},
   "outputs": [],
   "source": [
    "def story_gather(d, images, texts):\n",
    "    if d['type'] == 'root':\n",
    "        if 'name' in d['properties']:\n",
    "            texts.append(d['properties']['name'])\n",
    "        if 'icon_url' in d['properties']:\n",
    "            images.append(d['properties']['icon_url'])\n",
    "        if 'background' in d['properties']:\n",
    "            if 'image_url' in d['properties']['background']:\n",
    "                images.append(d['properties']['background']['image_url'])\n",
    "        if 'icon_background' in d['properties']:\n",
    "            if 'image_url' in d['properties']['icon_background']:\n",
    "                images.append(d['properties']['icon_background']['image_url'])\n",
    "    elif d['type'] == 'story-page':\n",
    "        if 'background' in d['properties']:\n",
    "            if 'image_url' in d['properties']['background']:\n",
    "                images.append(d['properties']['background']['image_url'])\n",
    "    elif d['type'] == 'layout-linear':\n",
    "        pass\n",
    "        # nothing ? (only gradients as backgrounds, bunch of technical properties, nothing of information)\n",
    "    elif d['type'] == 'selection-layout':\n",
    "        pass\n",
    "        # nothing ? (the same as layout-linear)\n",
    "    elif d['type'] == 'rating':\n",
    "        pass\n",
    "        # nothing ? (the same, and only 2 objects have it)\n",
    "    elif d['type'] == 'image':\n",
    "        images.append(d['properties']['url'])\n",
    "    elif d['type'] == 'label':\n",
    "        if 'text' in d['properties']:\n",
    "            texts.append(d['properties']['text'])\n",
    "    if 'content' in d:\n",
    "        for c in d['content']:\n",
    "            story_gather(c, images, texts)    "
   ]
  },
  {
   "cell_type": "code",
   "execution_count": 6,
   "metadata": {},
   "outputs": [],
   "source": [
    "def StoryGet(story):\n",
    "    images, texts = [], []\n",
    "    story_gather(story, images, texts)\n",
    "    images = list(set(images))\n",
    "    texts = list(set(texts))\n",
    "    return images, texts"
   ]
  },
  {
   "cell_type": "code",
   "execution_count": 7,
   "metadata": {},
   "outputs": [],
   "source": [
    "stories['data'] = stories['info'].apply(StoryGet)\n",
    "stories = stories.drop('info', axis=1)\n",
    "stories['texts'] = stories['data'].apply(lambda x: x[1])\n",
    "stories['images'] = stories['data'].apply(lambda x: x[0])\n",
    "stories.drop('data', axis=1, inplace=True)"
   ]
  },
  {
   "cell_type": "code",
   "execution_count": 16,
   "metadata": {},
   "outputs": [],
   "source": [
    "stories['text'] = stories.texts.apply(lambda x: \" \".join(x))"
   ]
  },
  {
   "cell_type": "code",
   "execution_count": 17,
   "metadata": {},
   "outputs": [
    {
     "data": {
      "text/plain": [
       "0      Как изменить ПИН-код Изменить пин-код Введите ...\n",
       "1      В приложении Тинькофф Как пополнить карту «Стр...\n",
       "2      Тинькофф Инвестиции 2.0 У нас хорошие новости ...\n",
       "3      Персонализация — глобальный фэшн-тренд, от кот...\n",
       "4      Где поиграть Где попробовать Где попрыгать Нео...\n",
       "                             ...                        \n",
       "954    Авиабилет за мили Нажмите «Использовать мили»....\n",
       "955    Выберите покупку, которую хотите компенсироват...\n",
       "956    Сравните открывшиеся реквизиты с данными в кви...\n",
       "957    Если хотите вводить ПИН-код, смените приоритет...\n",
       "958    Как найти банкомат На карте переключитесь на «...\n",
       "Name: text, Length: 959, dtype: object"
      ]
     },
     "execution_count": 17,
     "metadata": {},
     "output_type": "execute_result"
    }
   ],
   "source": [
    "stories.text"
   ]
  },
  {
   "cell_type": "code",
   "execution_count": 18,
   "metadata": {},
   "outputs": [],
   "source": [
    "stories.drop('texts', axis=1, inplace=True)"
   ]
  },
  {
   "cell_type": "code",
   "execution_count": 19,
   "metadata": {},
   "outputs": [],
   "source": [
    "stories.to_csv('stories_ImagesTexts.csv', sep=',', index=False)"
   ]
  },
  {
   "cell_type": "code",
   "execution_count": 331,
   "metadata": {},
   "outputs": [
    {
     "data": {
      "text/plain": [
       "['https://static2.tinkoff.ru/portfolio/stories/images/online_kursi_27-03_4.jpg',\n",
       " 'https://static2.tinkoff.ru/portfolio/stories/images/online_kursi_27-03_5.jpg',\n",
       " 'https://static2.tinkoff.ru/portfolio/stories/images/online_kursi_27-03_zahod.jpg',\n",
       " 'https://static2.tinkoff.ru/portfolio/stories/images/online_kursi_27-03_3.jpg',\n",
       " 'https://static2.tinkoff.ru/portfolio/stories/images/online_kursi_27-03_2.jpg',\n",
       " 'https://static2.tinkoff.ru/portfolio/stories/images/online_kursi_27-03_1.jpg']"
      ]
     },
     "execution_count": 331,
     "metadata": {},
     "output_type": "execute_result"
    }
   ],
   "source": [
    "stories.iloc[324, 2]"
   ]
  },
  {
   "cell_type": "code",
   "execution_count": null,
   "metadata": {},
   "outputs": [],
   "source": []
  }
 ],
 "metadata": {
  "kernelspec": {
   "display_name": "Python 3",
   "language": "python",
   "name": "python3"
  },
  "language_info": {
   "codemirror_mode": {
    "name": "ipython",
    "version": 3
   },
   "file_extension": ".py",
   "mimetype": "text/x-python",
   "name": "python",
   "nbconvert_exporter": "python",
   "pygments_lexer": "ipython3",
   "version": "3.7.3"
  }
 },
 "nbformat": 4,
 "nbformat_minor": 2
}
